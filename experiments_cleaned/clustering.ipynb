{
 "cells": [
  {
   "cell_type": "code",
   "execution_count": null,
   "metadata": {},
   "outputs": [],
   "source": [
    "import numpy as np\n",
    "import pandas as pd\n",
    "import matplotlib.pyplot as plt\n",
    "import os\n",
    "import seaborn as sns\n",
    "from sklearn import metrics\n",
    "from umap import UMAP\n",
    "\n",
    "import sys\n",
    "sys.path.append('C:/users/aaron/JupyterNotebook/W. Zhang Lab/projects/heartbeat/utils')\n",
    "from utils import *"
   ]
  },
  {
   "cell_type": "markdown",
   "metadata": {},
   "source": [
    "# Load data & Prep"
   ]
  },
  {
   "cell_type": "code",
   "execution_count": null,
   "metadata": {},
   "outputs": [],
   "source": [
    "psd_mat_path = 'C:/users/aaron/JupyterNotebook/W. Zhang Lab/projects/heartbeat/out/psd_mat.csv'\n",
    "psd_freqs_path = 'C:/users/aaron/JupyterNotebook/W. Zhang Lab/projects/heartbeat/out/psd_freqs.csv'\n",
    "info_path = 'C:/users/aaron/JupyterNotebook/W. Zhang Lab/projects/heartbeat/out/info_df.csv'"
   ]
  },
  {
   "cell_type": "code",
   "execution_count": null,
   "metadata": {},
   "outputs": [],
   "source": [
    "psd_mat = np.loadtxt(psd_mat_path, delimiter=',')\n",
    "psd_freqs = np.loadtxt(psd_freqs_path, delimiter=',')\n",
    "info_df = pd.read_csv(info_path, index_col=0)\n",
    "categories = info_df['category'].values\n",
    "# info_df"
   ]
  },
  {
   "cell_type": "code",
   "execution_count": null,
   "metadata": {},
   "outputs": [],
   "source": [
    "# datasets\n",
    "datasets = {'age': ['Normal', '28Day', '14Day'], \n",
    "            'feeding': ['Normal', 'Thirste', 'Starved'], \n",
    "            'mating': ['Normal', 'Failed', 'Mated'], \n",
    "            'mated_vs_normal': ['Normal', 'Mated'], \n",
    "            'mated_vs_failed': ['Failed', 'Mated'], \n",
    "            'mated': ['Mated', 'Mated+Female'], \n",
    "            'failed': ['Failed', 'Failed+Female'], \n",
    "            'all': ['Normal', '28Day', '14Day', 'Thirste', 'Starved', 'Failed', 'Mated']}"
   ]
  },
  {
   "cell_type": "markdown",
   "metadata": {},
   "source": [
    "# UMAP"
   ]
  },
  {
   "cell_type": "markdown",
   "metadata": {},
   "source": [
    "## feeding"
   ]
  },
  {
   "cell_type": "code",
   "execution_count": null,
   "metadata": {},
   "outputs": [],
   "source": [
    "X, Y = chooseDataset(psd_mat, categories, datasets['feeding'], balancing=False)\n",
    "reducer = UMAP(random_state=42)\n",
    "embedding = reducer.fit_transform(X)"
   ]
  },
  {
   "cell_type": "code",
   "execution_count": null,
   "metadata": {},
   "outputs": [],
   "source": [
    "plt.scatter(embedding[:, 0], embedding[:, 1], c=[{'Normal': 'k', 'Starved': 'r', 'Thirste': 'b'}.get(y) for y in Y], cmap='Spectral', s=5)\n",
    "plt.gca().set_aspect('equal', 'datalim')\n",
    "plt.title(\"{'Normal': 'k', 'Starved': 'r', 'Thirste': 'b'}\")\n",
    "plt.show()"
   ]
  },
  {
   "cell_type": "markdown",
   "metadata": {},
   "source": [
    "## all"
   ]
  },
  {
   "cell_type": "code",
   "execution_count": null,
   "metadata": {},
   "outputs": [],
   "source": [
    "X, Y = chooseDataset(psd_mat, categories, datasets['all'], balancing=False)\n",
    "reducer = UMAP(random_state=42)\n",
    "embedding = reducer.fit_transform(X)"
   ]
  },
  {
   "cell_type": "code",
   "execution_count": null,
   "metadata": {},
   "outputs": [],
   "source": [
    "plt.figure(dpi=300)\n",
    "sns.scatterplot(x=embedding[:, 0], y=embedding[:, 1], hue=Y, s=5)\n",
    "# plt.gca().set_aspect('equal', 'datalim')\n",
    "# plt.title(\"{'Normal': 'k', 'Starved': 'r', 'Thirste': 'b'}\")\n",
    "plt.show()"
   ]
  },
  {
   "cell_type": "code",
   "execution_count": null,
   "metadata": {},
   "outputs": [],
   "source": [
    "Y.shape"
   ]
  },
  {
   "cell_type": "code",
   "execution_count": null,
   "metadata": {},
   "outputs": [],
   "source": []
  }
 ],
 "metadata": {
  "interpreter": {
   "hash": "b3ba2566441a7c06988d0923437866b63cedc61552a5af99d1f4fb67d367b25f"
  },
  "kernelspec": {
   "display_name": "Python 3 (ipykernel)",
   "language": "python",
   "name": "python3"
  },
  "language_info": {
   "codemirror_mode": {
    "name": "ipython",
    "version": 3
   },
   "file_extension": ".py",
   "mimetype": "text/x-python",
   "name": "python",
   "nbconvert_exporter": "python",
   "pygments_lexer": "ipython3",
   "version": "3.8.13"
  }
 },
 "nbformat": 4,
 "nbformat_minor": 4
}
