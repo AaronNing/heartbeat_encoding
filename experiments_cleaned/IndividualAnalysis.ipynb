{
 "cells": [
  {
   "cell_type": "code",
   "execution_count": null,
   "id": "177d2913-b05f-402d-a719-296341d26e65",
   "metadata": {},
   "outputs": [],
   "source": [
    "import numpy as np\n",
    "import pandas as pd\n",
    "import matplotlib.pyplot as plt\n",
    "import os\n",
    "import seaborn as sns\n",
    "from sklearn import metrics\n",
    "\n",
    "import sys\n",
    "sys.path.append('C:/users/aaron/JupyterNotebook/W. Zhang Lab/projects/heartbeat/utils')\n",
    "from utils import *"
   ]
  },
  {
   "cell_type": "code",
   "execution_count": null,
   "id": "4828d74a-1310-431c-894e-a644f4cdf0ff",
   "metadata": {},
   "outputs": [],
   "source": [
    "psd_mat_path = 'C:/users/aaron/JupyterNotebook/W. Zhang Lab/projects/heartbeat/out/psd_mat.csv'\n",
    "psd_freqs_path = 'C:/users/aaron/JupyterNotebook/W. Zhang Lab/projects/heartbeat/out/psd_freqs.csv'\n",
    "info_path = 'C:/users/aaron/JupyterNotebook/W. Zhang Lab/projects/heartbeat/out/info_df.csv'"
   ]
  },
  {
   "cell_type": "code",
   "execution_count": null,
   "id": "fa67bf3d-d9cd-4485-9437-62dad8dd86c4",
   "metadata": {},
   "outputs": [],
   "source": [
    "psd_mat = np.loadtxt(psd_mat_path, delimiter=',')\n",
    "psd_freqs = np.loadtxt(psd_freqs_path, delimiter=',')\n",
    "info_df = pd.read_csv(info_path, index_col=0)\n",
    "categories = info_df['category'].values\n",
    "info_df"
   ]
  },
  {
   "cell_type": "code",
   "execution_count": null,
   "id": "e977db00-188c-46f8-adbe-8659e52e0d53",
   "metadata": {},
   "outputs": [],
   "source": [
    "# datasets\n",
    "datasets = {'age': ['Normal', '28Day', '14Day'], \n",
    "            'feeding': ['Normal', 'Thirste', 'Starved'], \n",
    "            'mating': ['Normal', 'Failed', 'Mated'], \n",
    "            'mated_vs_normal': ['Normal', 'Mated'], \n",
    "            'mated_vs_failed': ['Failed', 'Mated'], \n",
    "            'mated': ['Mated', 'Mated+Female'], \n",
    "            'failed': ['Failed', 'Failed+Female']}"
   ]
  },
  {
   "cell_type": "code",
   "execution_count": null,
   "id": "6302e675-66c7-44f3-a602-d09ab50a1d4b",
   "metadata": {},
   "outputs": [],
   "source": [
    "X, Y = chooseDataset(psd_mat, categories, datasets['mated_vs_failed'], balancing=True)\n",
    "\n",
    "f1_train, f1_test = getLDAResults(X, Y, n_epochs=100, printing=True, plotting=True, psd_freqs=psd_freqs)"
   ]
  },
  {
   "cell_type": "markdown",
   "id": "a0d2b9a9-61f4-4d7a-9e6d-e4612a52180c",
   "metadata": {},
   "source": [
    "# shuffle for each individual"
   ]
  },
  {
   "cell_type": "code",
   "execution_count": null,
   "id": "482b5dee-ae75-4042-870b-d0cef9d1966c",
   "metadata": {
    "tags": []
   },
   "outputs": [],
   "source": [
    "idcs = chooseIdcs(categories, datasets['mated_vs_failed'], balancing=True)\n",
    "X = psd_mat[idcs, :]\n",
    "info = info_df.iloc[idcs]\n",
    "Y = info.category.values\n",
    "shuffled_idcs = np.zeros(len(Y)).astype(int)\n",
    "for ID in info.ID.unique():\n",
    "    subdf_idcs = np.where(info.ID==ID)[0]\n",
    "    subdf_shuffled_idcs = subdf_idcs.copy()\n",
    "    np.random.shuffle(subdf_shuffled_idcs)\n",
    "    shuffled_idcs[subdf_idcs] = subdf_shuffled_idcs\n",
    "\n",
    "Y_shuffled = Y[shuffled_idcs]\n",
    "\n",
    "X, Y = chooseDataset(psd_mat, categories, datasets['mated_vs_failed'], balancing=True)\n",
    "\n",
    "_, _ = getLDAResults(X, Y, n_epochs=100, printing=True, plotting=True, psd_freqs=psd_freqs)\n",
    "\n",
    "_, _ = getLDAResults(X, Y_shuffled, n_epochs=100, printing=True, plotting=True, psd_freqs=psd_freqs)"
   ]
  },
  {
   "cell_type": "markdown",
   "id": "b99704e9-0bd0-4557-b3fe-0cbc0c9b8c47",
   "metadata": {},
   "source": [
    "# shuffle all"
   ]
  },
  {
   "cell_type": "code",
   "execution_count": null,
   "id": "d736a712-a609-418c-9784-4132d119056d",
   "metadata": {},
   "outputs": [],
   "source": [
    "idcs = chooseIdcs(categories, datasets['mated_vs_failed'], balancing=True)\n",
    "X = psd_mat[idcs, :]\n",
    "info = info_df.iloc[idcs]\n",
    "Y = info.category.values\n",
    "\n",
    "Y_shuffled = Y.copy()\n",
    "np.random.shuffle(Y_shuffled)\n",
    "\n",
    "_, _ = getLDAResults(X, Y, n_epochs=100, printing=True, plotting=True, psd_freqs=psd_freqs)\n",
    "\n",
    "_, _ = getLDAResults(X, Y_shuffled, n_epochs=100, printing=True, plotting=True, psd_freqs=psd_freqs)"
   ]
  },
  {
   "cell_type": "code",
   "execution_count": null,
   "id": "f4a91941-ff9e-4292-a8f1-5620adb7e8b2",
   "metadata": {},
   "outputs": [],
   "source": [
    "X_norm = normalize(psd_mat)\n",
    "X, Y = chooseDataset(X_norm, categories, datasets['mated_vs_failed'], balancing=True)\n",
    "X_plus_female, Y_plus_female = chooseDataset(X_norm, categories, ['Failed+Female', 'Mated+Female', 'Normal'], balancing=False)\n",
    "\n",
    "lda_model = LDA()\n",
    "pcs_all = lda_model.fit_transform(X, Y)\n",
    "pcs_plus_female = lda_model.transform(X_plus_female)\n",
    "pcs_concat = np.concatenate([pcs_all, pcs_plus_female], axis=0)\n",
    "Y_concat = np.concatenate([Y, Y_plus_female], axis=0)\n",
    "f1_score_all = lda_model.score(X, Y)\n",
    "plt.figure(figsize=[12,6], dpi=144, facecolor=[0.9,0.9,0.9])\n",
    "plt.subplot(1,2,1)\n",
    "result = doTtest(pcs_all.flatten(), Y)\n",
    "sns.kdeplot(x=pcs_all.flatten(), hue=Y)\n",
    "\n",
    "plt.title('LDA')\n",
    "plt.text(x=plt.xlim()[0], y=plt.ylim()[1], s='p = %.3e'%result.pvalue)\n",
    "plt.subplot(1,2,2)\n",
    "sns.boxplot(x=Y_concat, y=pcs_concat.flatten())\n",
    "plt.ylabel('ld1_projection')\n",
    "plt.suptitle('all (f1_score = %.3f)'%f1_score_all)\n",
    "plt.tight_layout()\n",
    "plt.show()"
   ]
  },
  {
   "cell_type": "code",
   "execution_count": null,
   "id": "2e689d4b-a4bd-4a74-a513-8f8f160c7fe0",
   "metadata": {},
   "outputs": [],
   "source": [
    "X_norm = normalize(psd_mat)\n",
    "X, Y = chooseDataset(X_norm, categories, ['Starved', 'Normal'], balancing=True)\n",
    "X_plus_female, Y_plus_female = chooseDataset(X_norm, categories, ['Starved+Venigar'], balancing=False)\n",
    "\n",
    "lda_model = LDA()\n",
    "pcs_all = lda_model.fit_transform(X, Y)\n",
    "pcs_plus_female = lda_model.transform(X_plus_female)\n",
    "pcs_concat = np.concatenate([pcs_all, pcs_plus_female], axis=0)\n",
    "Y_concat = np.concatenate([Y, Y_plus_female], axis=0)\n",
    "f1_score_all = lda_model.score(X, Y)\n",
    "plt.figure(figsize=[12,6], dpi=144, facecolor=[0.9,0.9,0.9])\n",
    "plt.subplot(1,2,1)\n",
    "result = doTtest(pcs_all.flatten(), Y)\n",
    "sns.kdeplot(x=pcs_concat.flatten(), hue=Y_concat)\n",
    "\n",
    "plt.title('LDA')\n",
    "plt.text(x=plt.xlim()[0], y=plt.ylim()[1], s='p = %.3e'%result.pvalue)\n",
    "plt.subplot(1,2,2)\n",
    "sns.boxplot(x=Y_concat, y=pcs_concat.flatten())\n",
    "plt.ylabel('ld1_projection')\n",
    "plt.suptitle('all (f1_score = %.3f)'%f1_score_all)\n",
    "plt.tight_layout()\n",
    "plt.show()"
   ]
  },
  {
   "cell_type": "code",
   "execution_count": null,
   "id": "ac50db4a-7864-4f20-89da-576dfe642775",
   "metadata": {},
   "outputs": [],
   "source": []
  }
 ],
 "metadata": {
  "kernelspec": {
   "display_name": "Python 3 (ipykernel)",
   "language": "python",
   "name": "python3"
  },
  "language_info": {
   "codemirror_mode": {
    "name": "ipython",
    "version": 3
   },
   "file_extension": ".py",
   "mimetype": "text/x-python",
   "name": "python",
   "nbconvert_exporter": "python",
   "pygments_lexer": "ipython3",
   "version": "3.7.11"
  }
 },
 "nbformat": 4,
 "nbformat_minor": 5
}
