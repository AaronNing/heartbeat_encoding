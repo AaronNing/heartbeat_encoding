{
 "cells": [
  {
   "cell_type": "code",
   "execution_count": null,
   "id": "6cc29b07-494d-469e-b88b-bae9cb418335",
   "metadata": {},
   "outputs": [],
   "source": [
    "import numpy as np\n",
    "import pandas as pd\n",
    "import matplotlib.pyplot as plt\n",
    "import os\n",
    "import seaborn as sns\n",
    "from sklearn import metrics\n",
    "\n",
    "import sys\n",
    "sys.path.append('C:/users/aaron/JupyterNotebook/W. Zhang Lab/projects/heartbeat/utils')\n",
    "from utils import *"
   ]
  },
  {
   "cell_type": "code",
   "execution_count": null,
   "id": "2705ccb1-c32a-4a29-9341-3f44a5a7d493",
   "metadata": {},
   "outputs": [],
   "source": [
    "psd_mat_path = 'C:/users/aaron/JupyterNotebook/W. Zhang Lab/projects/heartbeat/out/psd_mat.csv'\n",
    "psd_freqs_path = 'C:/users/aaron/JupyterNotebook/W. Zhang Lab/projects/heartbeat/out/psd_freqs.csv'\n",
    "info_path = 'C:/users/aaron/JupyterNotebook/W. Zhang Lab/projects/heartbeat/out/info_df.csv'"
   ]
  },
  {
   "cell_type": "markdown",
   "id": "0e69a128-49b3-49bd-a5e2-a4a5e6c09f57",
   "metadata": {
    "tags": []
   },
   "source": [
    "# prep"
   ]
  },
  {
   "cell_type": "code",
   "execution_count": null,
   "id": "ceb7fa5b-8c2f-40b1-a370-ccf282812657",
   "metadata": {
    "tags": []
   },
   "outputs": [],
   "source": []
  },
  {
   "cell_type": "code",
   "execution_count": null,
   "id": "13fd395e-676f-46fe-9dd9-d6167f1b2005",
   "metadata": {},
   "outputs": [],
   "source": [
    "psd_mat = np.loadtxt(psd_mat_path, delimiter=',')\n",
    "psd_freqs = np.loadtxt(psd_freqs_path, delimiter=',')\n",
    "info_df = pd.read_csv(info_path, index_col=0)\n",
    "categories = info_df['category'].values\n",
    "info_df.category.value_counts()"
   ]
  },
  {
   "cell_type": "code",
   "execution_count": null,
   "id": "b0fa714d-4066-4ab9-a40d-4723e2e0250e",
   "metadata": {
    "tags": []
   },
   "outputs": [],
   "source": [
    "sns.lineplot(x=psd_freqs, y=psd_mat.mean(axis=0))\n",
    "plt.show()\n",
    "sns.lineplot(x=psd_freqs, y=psd_mat.std(axis=0))\n",
    "plt.show()"
   ]
  },
  {
   "cell_type": "code",
   "execution_count": null,
   "id": "75f62091-7613-4ee4-82f9-70c8c609248c",
   "metadata": {},
   "outputs": [],
   "source": [
    "# datasets\n",
    "datasets = {'age': ['Normal', '28Day', '14Day'], \n",
    "            'feeding': ['Normal', 'Thirste', 'Starved'], \n",
    "            'mating': ['Normal', 'Failed', 'Mated'], \n",
    "            'mated_vs_normal': ['Normal', 'Mated'], \n",
    "            'mated_vs_failed': ['Failed', 'Mated'], \n",
    "            'mated': ['Mated', 'Mated+Female'], \n",
    "            'failed': ['Failed', 'Failed+Female'], \n",
    "            'all': ['Normal', '28Day', '14Day', 'Thirste', 'Starved', 'Failed', 'Mated']}"
   ]
  },
  {
   "cell_type": "markdown",
   "id": "43de5733-6681-48f8-aa66-9b34a20f4bdf",
   "metadata": {
    "tags": []
   },
   "source": [
    "# LDA"
   ]
  },
  {
   "cell_type": "code",
   "execution_count": null,
   "id": "ca6b7481-cf16-44af-9636-4c330813003d",
   "metadata": {
    "tags": []
   },
   "outputs": [],
   "source": [
    "X, Y = chooseDataset(psd_mat, categories, datasets['age'], balancing=True)\n",
    "\n",
    "f1_train, f1_test = getLDAResults(X, Y, n_epochs=100, printing=True, plotting=True, psd_freqs=psd_freqs)"
   ]
  },
  {
   "cell_type": "code",
   "execution_count": null,
   "id": "229b9376-240d-4ec7-b2ab-224bc82cdd8a",
   "metadata": {
    "tags": []
   },
   "outputs": [],
   "source": [
    "X, Y = chooseDataset(psd_mat, categories, datasets['feeding'], balancing=True)\n",
    "\n",
    "f1_train, f1_test = getLDAResults(X, Y, n_epochs=100, printing=True, plotting=True, psd_freqs=psd_freqs)"
   ]
  },
  {
   "cell_type": "code",
   "execution_count": null,
   "id": "e21ef2a4-d634-4d98-958d-b41c9a397541",
   "metadata": {
    "tags": []
   },
   "outputs": [],
   "source": [
    "X, Y = chooseDataset(psd_mat, categories, datasets['mating'], balancing=True)\n",
    "\n",
    "f1_train, f1_test = getLDAResults(X, Y, n_epochs=100, printing=True, plotting=True, psd_freqs=psd_freqs)"
   ]
  },
  {
   "cell_type": "code",
   "execution_count": null,
   "id": "a052587b-3f1c-4393-8c6d-d9869f06eb12",
   "metadata": {
    "tags": []
   },
   "outputs": [],
   "source": [
    "X, Y = chooseDataset(psd_mat, categories, datasets['mated_vs_normal'], balancing=True)\n",
    "\n",
    "f1_train, f1_test = getLDAResults(X, Y, n_epochs=100, printing=True, plotting=True, psd_freqs=psd_freqs)"
   ]
  },
  {
   "cell_type": "code",
   "execution_count": null,
   "id": "e6da3d1b-b26f-4ae4-84c4-4ebaf35fb285",
   "metadata": {
    "tags": []
   },
   "outputs": [],
   "source": [
    "X, Y = chooseDataset(psd_mat, categories, datasets['mated_vs_failed'], balancing=True)\n",
    "\n",
    "f1_train, f1_test = getLDAResults(X, Y, n_epochs=100, printing=True, plotting=True, psd_freqs=psd_freqs)"
   ]
  },
  {
   "cell_type": "code",
   "execution_count": null,
   "id": "afd6ac0c-0bba-4447-afe3-ca7cac765a88",
   "metadata": {
    "tags": []
   },
   "outputs": [],
   "source": [
    "X, Y = chooseDataset(psd_mat, categories, datasets['mated'], balancing=True, max_tol_imbalance_ratio=3)\n",
    "\n",
    "f1_train, f1_test = getLDAResults(X, Y, n_epochs=100, printing=True, plotting=True, psd_freqs=psd_freqs)"
   ]
  },
  {
   "cell_type": "code",
   "execution_count": null,
   "id": "ffdd261c-5ebe-409a-81b4-421bf012a41e",
   "metadata": {
    "tags": []
   },
   "outputs": [],
   "source": [
    "X, Y = chooseDataset(psd_mat, categories, datasets['failed'], balancing=True, max_tol_imbalance_ratio=3)\n",
    "\n",
    "f1_train, f1_test = getLDAResults(X, Y, n_epochs=100, printing=True, plotting=True, psd_freqs=psd_freqs)"
   ]
  },
  {
   "cell_type": "code",
   "execution_count": null,
   "id": "d517e95d",
   "metadata": {},
   "outputs": [],
   "source": [
    "# All\n",
    "X, Y = chooseDataset(psd_mat, categories, datasets['all'], balancing=True, max_tol_imbalance_ratio=3)\n",
    "\n",
    "f1_train, f1_test = getLDAResults(X, Y, n_epochs=100, printing=True, plotting=True, psd_freqs=psd_freqs)"
   ]
  },
  {
   "cell_type": "markdown",
   "id": "fedf1104-c9a8-48f8-8da1-57df5275f43d",
   "metadata": {},
   "source": [
    "## projecting (+ venigar) to the feeding state axis"
   ]
  },
  {
   "cell_type": "code",
   "execution_count": null,
   "id": "15ca847c-36c9-491e-bce0-df0eb3e3ac82",
   "metadata": {
    "tags": []
   },
   "outputs": [],
   "source": [
    "lst = datasets['feeding'].copy()\n",
    "lst.append('Starved+Venigar')\n",
    "\n",
    "X, Y = chooseDataset(psd_mat, categories, lst, balancing=True, max_tol_imbalance_ratio=5)\n",
    "\n",
    "f1_train, f1_test = getLDAResults(X, Y, n_epochs=100, printing=True, plotting=True, psd_freqs=psd_freqs)"
   ]
  },
  {
   "cell_type": "code",
   "execution_count": null,
   "id": "1ba3b11e",
   "metadata": {},
   "outputs": [],
   "source": [
    "lst = datasets['mating'].copy()\n",
    "lst.append('Failed+Female')\n",
    "lst.append('Mated+Female')\n",
    "\n",
    "X, Y = chooseDataset(psd_mat, categories, lst, balancing=True, max_tol_imbalance_ratio=5)\n",
    "\n",
    "f1_train, f1_test = getLDAResults(X, Y, n_epochs=100, printing=True, plotting=True, psd_freqs=psd_freqs)"
   ]
  },
  {
   "cell_type": "code",
   "execution_count": null,
   "id": "df079361-37d2-4c61-a56f-ae9c6ba2c6f6",
   "metadata": {},
   "outputs": [],
   "source": [
    "lst = ['Starved', 'Starved+Venigar']\n",
    "\n",
    "X, Y = chooseDataset(psd_mat, categories, lst, balancing=True, max_tol_imbalance_ratio=3)\n",
    "\n",
    "f1_train, f1_test = getLDAResults(X, Y, n_epochs=100, printing=True, plotting=True, psd_freqs=psd_freqs)"
   ]
  },
  {
   "cell_type": "markdown",
   "id": "cb74afe1-a540-487a-890f-b48903630b96",
   "metadata": {},
   "source": [
    "# GMM"
   ]
  },
  {
   "cell_type": "code",
   "execution_count": null,
   "id": "b1802b97-6da3-4417-990d-9260b8e4da42",
   "metadata": {},
   "outputs": [],
   "source": [
    "from sklearn.decomposition import PCA"
   ]
  },
  {
   "cell_type": "code",
   "execution_count": null,
   "id": "8c704b42-8b0c-4d71-acf6-39fe88309ad0",
   "metadata": {},
   "outputs": [],
   "source": [
    "X, Y = chooseDataset(psd_mat, categories, datasets['mated_vs_failed'], balancing=True)\n",
    "\n",
    "X = normalize(X)\n",
    "\n",
    "pca = PCA()\n",
    "pcs = pca.fit_transform(X)\n",
    "plt.plot(np.cumsum(pca.explained_variance_ratio_))\n",
    "plt.show()"
   ]
  },
  {
   "cell_type": "code",
   "execution_count": null,
   "id": "65a55f72-db2e-4f0f-ae6e-aa5ea01c72d6",
   "metadata": {},
   "outputs": [],
   "source": [
    "X_slim = pcs[:,:5]\n",
    "\n",
    "_,_ = getLDAResults(X_slim, Y, n_epochs=100, printing=True, plotting=True, psd_freqs=np.arange(5))"
   ]
  },
  {
   "cell_type": "code",
   "execution_count": null,
   "id": "92db165b-a6be-467d-8ffe-39ad4e4f3d1f",
   "metadata": {},
   "outputs": [],
   "source": []
  },
  {
   "cell_type": "code",
   "execution_count": null,
   "id": "b4533daf-4a69-4751-9771-fb752c54f5dd",
   "metadata": {},
   "outputs": [],
   "source": [
    "from sklearn.mixture import GaussianMixture as GMM"
   ]
  },
  {
   "cell_type": "code",
   "execution_count": null,
   "id": "1dba0760-d694-4596-af71-e6a706335a3c",
   "metadata": {},
   "outputs": [],
   "source": [
    "X, Y = chooseDataset(psd_mat, categories, datasets['mated_vs_failed'], balancing=True)\n",
    "gmm = GMM(n_components=2)\n",
    "labels_pred = gmm.fit_predict(X)\n",
    "labels_pred"
   ]
  },
  {
   "cell_type": "code",
   "execution_count": null,
   "id": "2edd6146-597b-4b66-9986-949c2e217860",
   "metadata": {},
   "outputs": [],
   "source": []
  },
  {
   "cell_type": "markdown",
   "id": "1575a217-4072-4b43-bf74-5ac0a24c1d98",
   "metadata": {},
   "source": [
    "# Softmax + L1"
   ]
  },
  {
   "cell_type": "code",
   "execution_count": null,
   "id": "57453e4d-013a-4064-aea8-43982273a985",
   "metadata": {},
   "outputs": [],
   "source": [
    "from sklearn.linear_model import LogisticRegression as LR"
   ]
  },
  {
   "cell_type": "code",
   "execution_count": null,
   "id": "67458030-01cb-4a47-9648-9d52d6811eea",
   "metadata": {},
   "outputs": [],
   "source": [
    "X, Y = chooseDataset(psd_mat, categories, datasets['mated_vs_failed'], balancing=True)\n",
    "\n",
    "X = normalize(X)\n",
    "\n",
    "lr = LR(penalty='l1', C=0.3, solver='liblinear', max_iter=1000)\n",
    "lr.fit(X, Y)\n",
    "Y_pred = lr.predict(X)\n",
    "f1 = metrics.f1_score(Y, Y_pred, average='macro')\n",
    "plt.plot(psd_freqs, np.abs(lr.coef_.flatten()))\n",
    "plt.title(f1)\n",
    "plt.show()"
   ]
  },
  {
   "cell_type": "markdown",
   "id": "cc590e80-ce26-485f-8974-f843a5c168f3",
   "metadata": {
    "tags": []
   },
   "source": [
    "# SVM"
   ]
  },
  {
   "cell_type": "code",
   "execution_count": null,
   "id": "f9010a5e-fd28-4b7e-8d45-e14f51beda67",
   "metadata": {},
   "outputs": [],
   "source": [
    "from sklearn.svm import SVC"
   ]
  },
  {
   "cell_type": "code",
   "execution_count": null,
   "id": "04bbeae3-18ed-46a0-b927-dbe100abfe72",
   "metadata": {},
   "outputs": [],
   "source": [
    "X, Y = chooseDataset(psd_mat, categories, datasets['age'], balancing=True)\n",
    "n_epochs = 100\n",
    "score_train_list = []\n",
    "score_test_list = []\n",
    "\n",
    "for idx_epoch in range(n_epochs):\n",
    "    \n",
    "    X_train, X_test, Y_train, Y_test = splitDataset(X, Y, test_ratio=0.2)\n",
    "\n",
    "    X_train, X_test = normalize_list([X_train, X_test])\n",
    "\n",
    "    svm_model = SVC(kernel='linear')\n",
    "    svm_model.fit(X_train, Y_train)\n",
    "    score_train = svm_model.score(X_train, Y_train)\n",
    "    score_test = svm_model.score(X_test, Y_test)\n",
    "\n",
    "    score_train_list.append(score_train)\n",
    "    score_test_list.append(score_test)\n",
    "    \n",
    "print('method: svm, kernel: linear')\n",
    "print('n_epochs: %d'%n_epochs)\n",
    "print('score_train: %.3f (+- %.3f)' % (np.mean(score_train_list), np.std(score_train_list)))\n",
    "print('score_test: %.3f (+- %.3f)' % (np.mean(score_test_list), np.std(score_test_list)))\n",
    "\n",
    "\n",
    "# pred_train = svm_model.predict(X_train)\n",
    "# pred_test = svm_model.predict(X_test)\n",
    "# acc_train = sum(Y_train == pred_train) / len(Y_train)\n",
    "# acc_test = sum(Y_test == pred_test) / len(Y_test)\n",
    "# print(acc_train, acc_test)\n"
   ]
  },
  {
   "cell_type": "code",
   "execution_count": null,
   "id": "3724aee8-033a-4f11-b81f-c581755ec4ea",
   "metadata": {},
   "outputs": [],
   "source": [
    "X, Y = chooseDataset(psd_mat, categories, datasets['feeding'], balancing=True)\n",
    "n_epochs = 100\n",
    "score_train_list = []\n",
    "score_test_list = []\n",
    "\n",
    "for idx_epoch in range(n_epochs):\n",
    "    \n",
    "    X_train, X_test, Y_train, Y_test = splitDataset(X, Y, test_ratio=0.2)\n",
    "\n",
    "    X_train, X_test = normalize_list([X_train, X_test])\n",
    "\n",
    "    svm_model = SVC(kernel='linear')\n",
    "    svm_model.fit(X_train, Y_train)\n",
    "    score_train = svm_model.score(X_train, Y_train)\n",
    "    score_test = svm_model.score(X_test, Y_test)\n",
    "\n",
    "    score_train_list.append(score_train)\n",
    "    score_test_list.append(score_test)\n",
    "    \n",
    "print('method: svm, kernel: linear')\n",
    "print('n_epochs: %d'%n_epochs)\n",
    "print('score_train: %.3f (+- %.3f)' % (np.mean(score_train_list), np.std(score_train_list)))\n",
    "print('score_test: %.3f (+- %.3f)' % (np.mean(score_test_list), np.std(score_test_list)))\n"
   ]
  },
  {
   "cell_type": "code",
   "execution_count": null,
   "id": "9f427433-63db-464c-a541-5264476597f9",
   "metadata": {},
   "outputs": [],
   "source": [
    "X, Y = chooseDataset(psd_mat, categories, datasets['mating'], balancing=True)\n",
    "\n",
    "X = normalize(X)\n",
    "\n",
    "n_epochs = 100\n",
    "score_train_list = []\n",
    "score_test_list = []\n",
    "\n",
    "for idx_epoch in range(n_epochs):\n",
    "    \n",
    "    X_train, X_test, Y_train, Y_test = splitDataset(X, Y, test_ratio=0.2)\n",
    "\n",
    "    svm_model = SVC(kernel='linear')\n",
    "    svm_model.fit(X_train, Y_train)\n",
    "    score_train = svm_model.score(X_train, Y_train)\n",
    "    score_test = svm_model.score(X_test, Y_test)\n",
    "\n",
    "    score_train_list.append(score_train)\n",
    "    score_test_list.append(score_test)\n",
    "    \n",
    "print('method: svm, kernel: linear')\n",
    "print('n_epochs: %d'%n_epochs)\n",
    "print('score_train: %.3f (+- %.3f)' % (np.mean(score_train_list), np.std(score_train_list)))\n",
    "print('score_test: %.3f (+- %.3f)' % (np.mean(score_test_list), np.std(score_test_list)))\n"
   ]
  },
  {
   "cell_type": "code",
   "execution_count": null,
   "id": "bcd42eb2-f804-4e43-8828-77f0208357cc",
   "metadata": {},
   "outputs": [],
   "source": [
    "X, Y = chooseDataset(psd_mat, categories, datasets['mating'], balancing=True)\n",
    "\n",
    "X = normalize(X)\n",
    "\n",
    "n_epochs = 100\n",
    "score_train_list = []\n",
    "score_test_list = []\n",
    "\n",
    "for idx_epoch in range(n_epochs):\n",
    "    \n",
    "    X_train, X_test, Y_train, Y_test = splitDataset(X, Y, test_ratio=0.2)\n",
    "\n",
    "    svm_model = SVC(kernel='rbf')\n",
    "    svm_model.fit(X_train, Y_train)\n",
    "    score_train = svm_model.score(X_train, Y_train)\n",
    "    score_test = svm_model.score(X_test, Y_test)\n",
    "\n",
    "    score_train_list.append(score_train)\n",
    "    score_test_list.append(score_test)\n",
    "    \n",
    "print('method: svm, kernel: linear')\n",
    "print('n_epochs: %d'%n_epochs)\n",
    "print('score_train: %.3f (+- %.3f)' % (np.mean(score_train_list), np.std(score_train_list)))\n",
    "print('score_test: %.3f (+- %.3f)' % (np.mean(score_test_list), np.std(score_test_list)))\n"
   ]
  },
  {
   "cell_type": "code",
   "execution_count": null,
   "id": "9763f293-c867-4342-9ea5-5b55998480a4",
   "metadata": {},
   "outputs": [],
   "source": [
    "X, Y = chooseDataset(psd_mat, categories, datasets['mated_vs_failed'], balancing=True)\n",
    "\n",
    "X = normalize(X)\n",
    "\n",
    "C_list = np.array([0.01, 0.1, 1, 10, 100])\n",
    "n_epochs = 100\n",
    "kernel_type = 'linear'\n",
    "\n",
    "print('method: svm, kernel: ' + kernel_type)\n",
    "\n",
    "for C in C_list:\n",
    "    print('C = %.2f' % C)\n",
    "    score_train_list = []\n",
    "    score_test_list = []\n",
    "\n",
    "    for idx_epoch in range(n_epochs):\n",
    "\n",
    "        X_train, X_test, Y_train, Y_test = splitDataset(X, Y, test_ratio=0.2)\n",
    "\n",
    "        svm_model = SVC(kernel=kernel_type)\n",
    "        svm_model.fit(X_train, Y_train)\n",
    "        score_train = svm_model.score(X_train, Y_train)\n",
    "        score_test = svm_model.score(X_test, Y_test)\n",
    "\n",
    "        score_train_list.append(score_train)\n",
    "        score_test_list.append(score_test)\n",
    "\n",
    "\n",
    "    print('score_train: %.3f (+- %.3f)' % (np.mean(score_train_list), np.std(score_train_list)))\n",
    "    print('score_test: %.3f (+- %.3f)' % (np.mean(score_test_list), np.std(score_test_list)))\n"
   ]
  },
  {
   "cell_type": "code",
   "execution_count": null,
   "id": "243530d9-a7c7-4968-be1b-bd30b2c53b82",
   "metadata": {},
   "outputs": [],
   "source": [
    "X, Y = chooseDataset(psd_mat, categories, datasets['mated_vs_failed'], balancing=True)\n",
    "\n",
    "X = normalize(X)\n",
    "\n",
    "C_list = np.array([0.01, 0.1, 1, 10, 100])\n",
    "n_epochs = 100\n",
    "kernel_type = 'rbf'\n",
    "\n",
    "print('method: svm, kernel: ' + kernel_type)\n",
    "\n",
    "for C in C_list:\n",
    "    print('C = %.2f' % C)\n",
    "    score_train_list = []\n",
    "    score_test_list = []\n",
    "\n",
    "    for idx_epoch in range(n_epochs):\n",
    "\n",
    "        X_train, X_test, Y_train, Y_test = splitDataset(X, Y, test_ratio=0.2)\n",
    "\n",
    "        svm_model = SVC(kernel=kernel_type)\n",
    "        svm_model.fit(X_train, Y_train)\n",
    "        score_train = svm_model.score(X_train, Y_train)\n",
    "        score_test = svm_model.score(X_test, Y_test)\n",
    "\n",
    "        score_train_list.append(score_train)\n",
    "        score_test_list.append(score_test)\n",
    "\n",
    "\n",
    "    print('score_train: %.3f (+- %.3f)' % (np.mean(score_train_list), np.std(score_train_list)))\n",
    "    print('score_test: %.3f (+- %.3f)' % (np.mean(score_test_list), np.std(score_test_list)))\n"
   ]
  },
  {
   "cell_type": "code",
   "execution_count": null,
   "id": "94aa9282-08cc-45b3-9650-f359957d2f34",
   "metadata": {},
   "outputs": [],
   "source": []
  }
 ],
 "metadata": {
  "kernelspec": {
   "display_name": "Python 3 (ipykernel)",
   "language": "python",
   "name": "python3"
  },
  "language_info": {
   "codemirror_mode": {
    "name": "ipython",
    "version": 3
   },
   "file_extension": ".py",
   "mimetype": "text/x-python",
   "name": "python",
   "nbconvert_exporter": "python",
   "pygments_lexer": "ipython3",
   "version": "3.8.13"
  }
 },
 "nbformat": 4,
 "nbformat_minor": 5
}
