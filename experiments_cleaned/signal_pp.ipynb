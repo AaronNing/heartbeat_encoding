{
 "cells": [
  {
   "cell_type": "code",
   "execution_count": null,
   "id": "ba3a4139-1816-4592-a108-13ccc6633ab7",
   "metadata": {},
   "outputs": [],
   "source": [
    "import pandas as pd\n",
    "import numpy as np\n",
    "import matplotlib.pyplot as plt\n",
    "import seaborn as sns"
   ]
  },
  {
   "cell_type": "code",
   "execution_count": null,
   "id": "11232f5b-e1cd-4ab9-a965-39048944e86f",
   "metadata": {},
   "outputs": [],
   "source": [
    "sample_freq = 30"
   ]
  },
  {
   "cell_type": "code",
   "execution_count": null,
   "id": "66d457db-56e4-4c4a-b43f-d60efa54fad6",
   "metadata": {},
   "outputs": [],
   "source": [
    "def preprocessing(signal,accuracy,sigma):\n",
    "    df = signal\n",
    "    #df = pd.read_csv(filename, header = 2)\n",
    "    df = df.loc[:,[\"y\",\"likelihood\"]]\n",
    "    df = df[df[\"likelihood\"]>accuracy]\n",
    "    df = df.loc[:,[\"y\"]]\n",
    "    df1 = (df - df.mean())/df.std()\n",
    "    df1 = df1.rename(columns = {'y':'zscore'})\n",
    "    df = df.join(df1)\n",
    "    df = df[df[\"zscore\"]>-sigma]\n",
    "    df = df[df[\"zscore\"]<sigma]\n",
    "    return(df)"
   ]
  },
  {
   "cell_type": "code",
   "execution_count": null,
   "id": "d0b588f9-185c-47a6-965b-db3d43966df4",
   "metadata": {},
   "outputs": [],
   "source": [
    "data_path = 'C:/users/aaron/JupyterNotebook/W. Zhang Lab/projects/heartbeat/experiments/TimeSeriousSignalClustering/2022-01-22 12-16-24 00_10_00-00_11_00DLC_resnet50_0122_thirsty_1Jan23shuffle1_20000.csv'\n",
    "\n",
    "data = pd.read_csv(data_path, header=2)\n",
    "data = preprocessing(data, accuracy=0.8, sigma=3)\n",
    "data"
   ]
  },
  {
   "cell_type": "code",
   "execution_count": null,
   "id": "c58f8681-5888-4d06-93ff-9834f74fd576",
   "metadata": {},
   "outputs": [],
   "source": [
    "plt.figure(figsize=[10,3], dpi=144)\n",
    "plt.plot(data[:100].index/sample_freq, data[:100].y, linewidth=0.5)\n",
    "plt.show()"
   ]
  },
  {
   "cell_type": "code",
   "execution_count": null,
   "id": "cb1d9cb4-165f-4123-8a8c-a31fb217dbf9",
   "metadata": {},
   "outputs": [],
   "source": [
    "from scipy import signal"
   ]
  },
  {
   "cell_type": "code",
   "execution_count": null,
   "id": "9af9d959-e537-4c5c-b2c6-80e17f357dc0",
   "metadata": {},
   "outputs": [],
   "source": [
    "peaks = signal.find_peaks(data.y, distance = 3)\n",
    "peaks = peaks[0].astype(int)\n",
    "peaks.shape"
   ]
  },
  {
   "cell_type": "code",
   "execution_count": null,
   "id": "c0ad6b56-3ec6-4397-bf93-9adf711f80d8",
   "metadata": {},
   "outputs": [],
   "source": [
    "plt.figure(figsize=[10,3], dpi=144)\n",
    "plt.plot((1+np.arange(len(data)))/sample_freq, data.y, linewidth=0.3)\n",
    "plt.scatter(peaks/sample_freq, data.iloc[peaks].y, c='r', s=0.5)\n",
    "plt.show()"
   ]
  },
  {
   "cell_type": "code",
   "execution_count": null,
   "id": "ce596235-2661-46c5-84e6-d7458bc6dd71",
   "metadata": {},
   "outputs": [],
   "source": [
    "def getIntervals(arr):\n",
    "    assert(len(arr.shape) == 1 and len(arr) > 1)\n",
    "    intervals = np.append(arr,0) - np.insert(arr,0,0)\n",
    "    intervals = intervals[:-1]\n",
    "    out = arr\n",
    "    for idx in range(len(intervals)):\n",
    "        if (idx==0):\n",
    "            out[idx] = intervals[idx]\n",
    "        elif (idx==len(arr)-1):\n",
    "            out[idx] = intervals[idx-1]\n",
    "        else:\n",
    "            out[idx] = (intervals[idx] + intervals[idx-1]) / 2\n",
    "    return out"
   ]
  },
  {
   "cell_type": "code",
   "execution_count": null,
   "id": "e27f8761-98bd-437b-9b3b-44aff87f4d79",
   "metadata": {},
   "outputs": [],
   "source": [
    "def findBottoms(wave, peaks):\n",
    "    if len(peaks) == 0:\n",
    "        bottoms = np.min(wave)\n",
    "    else:\n",
    "        bottoms = np.zeros(len(peaks)+1)\n",
    "        peaks = np.concatenate([[0], peaks, [len(wave)-1]])\n",
    "        for seg_idx in range(len(bottoms)):\n",
    "            bottoms[seg_idx] = np.argmin(wave[peaks[seg_idx]:peaks[seg_idx+1]]) + peaks[seg_idx]\n",
    "    bottoms = bottoms.astype(int)\n",
    "    return bottoms\n",
    "            \n",
    "def getHeartBeats(wave, min_distance):\n",
    "    peaks = signal.find_peaks(wave, distance=min_distance)\n",
    "    peaks = peaks[0].astype(int)\n",
    "    bottoms = findBottoms(wave, peaks)\n",
    "    \n",
    "    df = pd.DataFrame({\n",
    "        'left_width': peaks - bottoms[:-1],\n",
    "        'right_width': bottoms[1:] - peaks,\n",
    "        'left_height': wave[peaks] - wave[bottoms[:-1]],\n",
    "        'right_height': wave[peaks] - wave[bottoms[1:]],\n",
    "        'peak_y': wave[peaks]})\n",
    "    return df\n",
    "    "
   ]
  },
  {
   "cell_type": "code",
   "execution_count": null,
   "id": "ac91023b-ad25-4487-b7eb-6f2095163f65",
   "metadata": {},
   "outputs": [],
   "source": [
    "heart_data = getHeartBeats(data.y.values, min_distance=3)\n",
    "heart_data"
   ]
  },
  {
   "cell_type": "code",
   "execution_count": null,
   "id": "cc94f02d-a62b-4479-9ecb-56259072aff2",
   "metadata": {},
   "outputs": [],
   "source": [
    "sns.scatterplot(data=heart_data, x='left_width', y='left_height')\n",
    "plt.show()\n",
    "sns.scatterplot(data=heart_data, x='right_width', y='right_height')\n",
    "plt.show()\n",
    "sns.scatterplot(data=heart_data, x='peak_y', y='right_height')\n",
    "plt.show()\n",
    "sns.scatterplot(data=heart_data, x='peak_y', y='left_height')\n",
    "plt.show()"
   ]
  },
  {
   "cell_type": "code",
   "execution_count": null,
   "id": "fc4f52da-35ca-44ee-a062-8344ad8b09ad",
   "metadata": {},
   "outputs": [],
   "source": [
    "widths,width_heights,left_ips,right_ips = signal.peak_widths(data.y,peaks,rel_height=0.5)\n",
    "wave_data = pd.DataFrame({'idx': peaks, 'width': 1000*widths/sample_freq, 'height': width_heights, \n",
    "                          'left_ip': 1000*left_ips/sample_freq, 'right_ip': 1000*right_ips/sample_freq, \n",
    "                          't': 1000*peaks/sample_freq, 'interval': getIntervals(1000*peaks/sample_freq)})\n",
    "wave_data"
   ]
  },
  {
   "cell_type": "code",
   "execution_count": null,
   "id": "087d4651-3ca8-4719-8f45-acc7b7d0652e",
   "metadata": {},
   "outputs": [],
   "source": [
    "plt.figure(figsize=[10,3], dpi=144)\n",
    "wave_data.width.hist(bins=200)\n",
    "plt.show()\n",
    "plt.figure(figsize=[10,3], dpi=144)\n",
    "wave_data.interval.hist(bins=20)\n",
    "plt.show()"
   ]
  },
  {
   "cell_type": "code",
   "execution_count": null,
   "id": "f3d7d95c-2bda-453e-9176-ef100f38304b",
   "metadata": {},
   "outputs": [],
   "source": [
    "plt.figure(figsize=[10,3], dpi=144)\n",
    "wave_data.width.plot(linewidth=0.5)\n",
    "plt.ylim([0,600])\n",
    "plt.show()\n",
    "plt.figure(figsize=[10,3], dpi=144)\n",
    "wave_data.interval.plot(linewidth=0.5)\n",
    "plt.show()"
   ]
  },
  {
   "cell_type": "code",
   "execution_count": null,
   "id": "0c75e7a6-2242-4ae9-a591-80e724ffd3ac",
   "metadata": {},
   "outputs": [],
   "source": [
    "plt.figure(figsize=[10,3], dpi=144)\n",
    "plt.plot(data.index/sample_freq, data.y, linewidth=0.5)\n",
    "plt.scatter(data.iloc[wave_data[wave_data.width>2000].idx].index/30, data.iloc[wave_data[wave_data.width>2000].idx].y, c='r', s=3)\n",
    "plt.show()"
   ]
  },
  {
   "cell_type": "code",
   "execution_count": null,
   "id": "8815b842-ea27-44b5-a567-a4d3225ccae9",
   "metadata": {},
   "outputs": [],
   "source": [
    "wave_stats = pd.Series({'mean': wave_data.width.mean(), 'std': wave_data.width.mean(), 'median': wave_data.width.median()})\n",
    "wave_stats"
   ]
  },
  {
   "cell_type": "code",
   "execution_count": null,
   "id": "93609ac5-495e-4ee4-a72e-ff4cdaa61c46",
   "metadata": {},
   "outputs": [],
   "source": []
  },
  {
   "cell_type": "code",
   "execution_count": null,
   "id": "3ba03d30-61c6-4b6b-ae1e-e2fc33c7d81c",
   "metadata": {},
   "outputs": [],
   "source": []
  }
 ],
 "metadata": {
  "kernelspec": {
   "display_name": "Python 3 (ipykernel)",
   "language": "python",
   "name": "python3"
  },
  "language_info": {
   "codemirror_mode": {
    "name": "ipython",
    "version": 3
   },
   "file_extension": ".py",
   "mimetype": "text/x-python",
   "name": "python",
   "nbconvert_exporter": "python",
   "pygments_lexer": "ipython3",
   "version": "3.7.11"
  }
 },
 "nbformat": 4,
 "nbformat_minor": 5
}
