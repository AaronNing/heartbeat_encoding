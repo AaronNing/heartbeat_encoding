{
 "cells": [
  {
   "cell_type": "code",
   "execution_count": null,
   "id": "7c1deec1-3041-4263-b856-d1be12af6569",
   "metadata": {},
   "outputs": [],
   "source": [
    "import numpy as np\n",
    "import pandas as pd\n",
    "import matplotlib.pyplot as plt\n",
    "import os\n",
    "import seaborn as sns\n",
    "from sklearn import metrics\n",
    "\n",
    "import sys\n",
    "sys.path.append('C:/users/aaron/JupyterNotebook/W. Zhang Lab/projects/heartbeat/utils')\n",
    "from utils import *"
   ]
  },
  {
   "cell_type": "code",
   "execution_count": null,
   "id": "75f0da08-a1dd-4c4f-8d51-8ea6e6e34d4e",
   "metadata": {},
   "outputs": [],
   "source": [
    "psd_mat_path = 'C:/users/aaron/JupyterNotebook/W. Zhang Lab/projects/heartbeat/out/psd_mat.csv'\n",
    "psd_freqs_path = 'C:/users/aaron/JupyterNotebook/W. Zhang Lab/projects/heartbeat/out/psd_freqs.csv'\n",
    "categories_path = 'C:/users/aaron/JupyterNotebook/W. Zhang Lab/projects/heartbeat/out/categories.csv'"
   ]
  },
  {
   "cell_type": "code",
   "execution_count": null,
   "id": "2007caba-2b89-49db-a14f-f7a2f4863d44",
   "metadata": {},
   "outputs": [],
   "source": [
    "psd_mat = np.loadtxt(psd_mat_path, delimiter=',')\n",
    "psd_freqs = np.loadtxt(psd_freqs_path, delimiter=',')\n",
    "categories = np.loadtxt(categories_path, dtype='str', delimiter=',')\n",
    "psd_mat.shape"
   ]
  },
  {
   "cell_type": "code",
   "execution_count": null,
   "id": "c5c0e310-fc47-4dca-8e7e-0049cecc586f",
   "metadata": {},
   "outputs": [],
   "source": [
    "# datasets\n",
    "datasets = {'age': ['Normal', '28Day', '14Day'], \n",
    "            'feeding': ['Normal', 'Thirste', 'Starved'], \n",
    "            'mating': ['Normal', 'Failed', 'Mated'], \n",
    "            'mating_2': ['Normal', 'Mated'], \n",
    "            'mating_3': ['Failed', 'Mated']}"
   ]
  },
  {
   "cell_type": "markdown",
   "id": "2fde51c6-c4bc-4235-9e63-675a975de7b9",
   "metadata": {},
   "source": [
    "# freq ranging"
   ]
  },
  {
   "cell_type": "code",
   "execution_count": null,
   "id": "fb10fa4f-6226-4051-94cd-d8786212028d",
   "metadata": {},
   "outputs": [],
   "source": [
    "freq_range_list = ((0,5), (5,10), (10,15))"
   ]
  },
  {
   "cell_type": "code",
   "execution_count": null,
   "id": "81913152-3454-42cc-9520-e6ce9f67868e",
   "metadata": {
    "jupyter": {
     "outputs_hidden": true
    },
    "tags": []
   },
   "outputs": [],
   "source": [
    "X, Y = chooseDataset(psd_mat, categories, datasets['age'], balancing=True)\n",
    "\n",
    "for freq_range in freq_range_list:\n",
    "    X_in_range = X[:, ((psd_freqs >= freq_range[0]) & (psd_freqs < freq_range[1]))]\n",
    "    psd_freqs_in_range = psd_freqs[((psd_freqs >= freq_range[0]) & (psd_freqs < freq_range[1]))]\n",
    "    f1_train, f1_test = getLDAResults(X_in_range, Y, n_epochs=100, printing=True, plotting=True, psd_freqs=psd_freqs_in_range)"
   ]
  },
  {
   "cell_type": "code",
   "execution_count": null,
   "id": "3001821a-9fe6-4488-becf-8f8cb232696f",
   "metadata": {
    "jupyter": {
     "outputs_hidden": true
    },
    "tags": []
   },
   "outputs": [],
   "source": [
    "X, Y = chooseDataset(psd_mat, categories, datasets['feeding'], balancing=True)\n",
    "\n",
    "for freq_range in freq_range_list:\n",
    "    X_in_range = X[:, ((psd_freqs >= freq_range[0]) & (psd_freqs < freq_range[1]))]\n",
    "    psd_freqs_in_range = psd_freqs[((psd_freqs >= freq_range[0]) & (psd_freqs < freq_range[1]))]\n",
    "    f1_train, f1_test = getLDAResults(X_in_range, Y, n_epochs=100, printing=True, plotting=True, psd_freqs=psd_freqs_in_range)"
   ]
  },
  {
   "cell_type": "code",
   "execution_count": null,
   "id": "9f3f94f8-bc4f-4978-aadf-5b9a9d7409f5",
   "metadata": {
    "jupyter": {
     "outputs_hidden": true
    },
    "tags": []
   },
   "outputs": [],
   "source": [
    "X, Y = chooseDataset(psd_mat, categories, datasets['mating'], balancing=True)\n",
    "\n",
    "for freq_range in freq_range_list:\n",
    "    X_in_range = X[:, ((psd_freqs >= freq_range[0]) & (psd_freqs < freq_range[1]))]\n",
    "    psd_freqs_in_range = psd_freqs[((psd_freqs >= freq_range[0]) & (psd_freqs < freq_range[1]))]\n",
    "    f1_train, f1_test = getLDAResults(X_in_range, Y, n_epochs=100, printing=True, plotting=True, psd_freqs=psd_freqs_in_range)"
   ]
  },
  {
   "cell_type": "code",
   "execution_count": null,
   "id": "c989651d-b1ea-4edd-a940-577684835bbc",
   "metadata": {},
   "outputs": [],
   "source": [
    "X, Y = chooseDataset(psd_mat, categories, datasets['mating_3'], balancing=True)\n",
    "\n",
    "for freq_range in freq_range_list:\n",
    "    X_in_range = X[:, ((psd_freqs >= freq_range[0]) & (psd_freqs < freq_range[1]))]\n",
    "    psd_freqs_in_range = psd_freqs[((psd_freqs >= freq_range[0]) & (psd_freqs < freq_range[1]))]\n",
    "    f1_train, f1_test = getLDAResults(X_in_range, Y, n_epochs=100, printing=True, plotting=True, psd_freqs=psd_freqs_in_range)"
   ]
  },
  {
   "cell_type": "code",
   "execution_count": null,
   "id": "84240f8e-7c46-4537-8e66-e269177e7b93",
   "metadata": {},
   "outputs": [],
   "source": []
  }
 ],
 "metadata": {
  "kernelspec": {
   "display_name": "Python 3 (ipykernel)",
   "language": "python",
   "name": "python3"
  },
  "language_info": {
   "codemirror_mode": {
    "name": "ipython",
    "version": 3
   },
   "file_extension": ".py",
   "mimetype": "text/x-python",
   "name": "python",
   "nbconvert_exporter": "python",
   "pygments_lexer": "ipython3",
   "version": "3.7.11"
  }
 },
 "nbformat": 4,
 "nbformat_minor": 5
}
